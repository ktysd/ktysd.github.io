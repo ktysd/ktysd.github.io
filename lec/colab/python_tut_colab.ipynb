{
 "cells": [
  {
   "cell_type": "markdown",
   "metadata": {},
   "source": [
    "# Python のチュートリアル（数値計算向け，Colab版）\n",
    "\n",
    "### 宇都宮大学　吉田勝俊"
   ]
  },
  {
   "cell_type": "markdown",
   "metadata": {},
   "source": [
    "## 用語\n",
    "\n",
    "* 「Colab ノートブック」　今みているこの文書．\n",
    "* 「セル」　Colab ノートブック内の入力可能な枠．\n",
    "* 「テキストセル」　文章を記述するためのセル．今読んでるここがテキストセルの中である．\n",
    "* 「コードセル」　Pythonのコードが実行できるセル．次行はコードセルである．"
   ]
  },
  {
   "cell_type": "code",
   "execution_count": null,
   "metadata": {},
   "outputs": [],
   "source": []
  },
  {
   "cell_type": "markdown",
   "metadata": {},
   "source": [
    "## コードセルの実行方法\n",
    "\n",
    "* 該当セルをクリックして選択すると，セルの左側に実行ボタン（再生ボタンみたいな）が現れる．それをクリックする．\n",
    "* または，選択中にキーボードから《Ctrl-Enter》（Ctrlキーを押しながらEnterキーを押す）．\n",
    "    * ブラウザによっては《Shift-Enter》も受け付けるみたい\n",
    "\n",
    "## コードセルの追加方法\n",
    "\n",
    "* 左上メニューの「挿入」→「コードセル」で追加できる．"
   ]
  },
  {
   "cell_type": "markdown",
   "metadata": {},
   "source": [
    "# 実習してみよう"
   ]
  },
  {
   "cell_type": "markdown",
   "metadata": {},
   "source": [
    "## 四則演算\n",
    "\n",
    "* 次のコードセルを実行せよ．（実行ボタンをクリックするか，《Ctrl-Enter》）"
   ]
  },
  {
   "cell_type": "code",
   "execution_count": 1,
   "metadata": {},
   "outputs": [
    {
     "data": {
      "text/plain": [
       "3"
      ]
     },
     "execution_count": 1,
     "metadata": {},
     "output_type": "execute_result"
    }
   ],
   "source": [
    "1+2"
   ]
  },
  {
   "cell_type": "markdown",
   "metadata": {},
   "source": [
    "* 次のコードを，直下のコードセルに入力して実行せよ．（答：`2.5`）\n",
    "\n",
    "```python\n",
    "1+2*3/4\n",
    "```"
   ]
  },
  {
   "cell_type": "code",
   "execution_count": 2,
   "metadata": {},
   "outputs": [
    {
     "data": {
      "text/plain": [
       "2.5"
      ]
     },
     "execution_count": 2,
     "metadata": {},
     "output_type": "execute_result"
    }
   ],
   "source": [
    "1+2*3/4"
   ]
  },
  {
   "cell_type": "code",
   "execution_count": null,
   "metadata": {},
   "outputs": [],
   "source": []
  }
 ],
 "metadata": {
  "kernelspec": {
   "display_name": "Python 3",
   "language": "python",
   "name": "python3"
  },
  "language_info": {
   "codemirror_mode": {
    "name": "ipython",
    "version": 3
   },
   "file_extension": ".py",
   "mimetype": "text/x-python",
   "name": "python",
   "nbconvert_exporter": "python",
   "pygments_lexer": "ipython3",
   "version": "3.6.7"
  }
 },
 "nbformat": 4,
 "nbformat_minor": 2
}
